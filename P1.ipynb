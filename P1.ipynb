!pip install scikit-learn matplotlib --quiet

import numpy as np
from sklearn.metrics import confusion_matrix, ConfusionMatrixDisplay, accuracy_score, precision_score, recall_score, f1_score
import matplotlib.pyplot as plt
from sklearn.datasets import load_iris
from sklearn.model_selection import train_test_split
from sklearn.ensemble import RandomForestClassifier

y_true_binary = np.array([0, 1, 0, 1, 1, 0, 1, 0, 1, 1])
y_pred_binary = np.array([0, 1, 0, 0, 1, 0, 1, 1, 0, 1])
cm_binary = confusion_matrix(y_true_binary, y_pred_binary)
disp_binary = ConfusionMatrixDisplay(confusion_matrix=cm_binary, display_labels=["Negative", "Positive"])
disp_binary.plot(cmap=plt.cm.Blues)
plt.title("Bi-Level (Binary) Confusion Matrix")
plt.show()
print("=== Binary Classification Metrics ===")
print("Accuracy :", round(accuracy_score(y_true_binary, y_pred_binary), 3))
print("Precision:", round(precision_score(y_true_binary, y_pred_binary), 3))
print("Recall   :", round(recall_score(y_true_binary, y_pred_binary), 3))
print("F1-Score :", round(f1_score(y_true_binary, y_pred_binary), 3))

y_true_multi = np.array([0, 1, 2, 1, 0, 2, 1, 0, 2, 2])
y_pred_multi = np.array([0, 2, 1, 1, 0, 2, 1, 0, 0, 2])
cm_multi = confusion_matrix(y_true_multi, y_pred_multi)
disp_multi = ConfusionMatrixDisplay(confusion_matrix=cm_multi, display_labels=["Class 0", "Class 1", "Class 2"])
disp_multi.plot(cmap=plt.cm.Oranges)
plt.title("Multi-Level (Multi-Class) Confusion Matrix")
plt.show()
print("=== Multi-Class Classification Metrics ===")
print("Accuracy :", round(accuracy_score(y_true_multi, y_pred_multi), 3))
print("Precision (macro):", round(precision_score(y_true_multi, y_pred_multi, average='macro'), 3))
print("Recall (macro)   :", round(recall_score(y_true_multi, y_pred_multi, average='macro'), 3))
print("F1-Score (macro) :", round(f1_score(y_true_multi, y_pred_multi, average='macro'), 3))

X, y = load_iris(return_X_y=True)
X_train, X_test, y_train, y_test = train_test_split(X, y, test_size=0.3, random_state=42)
model = RandomForestClassifier(random_state=42)
model.fit(X_train, y_train)
y_pred = model.predict(X_test)
cm_model = confusion_matrix(y_test, y_pred)
disp_model = ConfusionMatrixDisplay(confusion_matrix=cm_model, display_labels=["Setosa", "Versicolor", "Virginica"])
disp_model.plot(cmap=plt.cm.Greens)
plt.title("Model-Based Multi-Class Confusion Matrix (Random Forest)")
plt.show()
print("=== Model Performance ===")
print("Accuracy :", round(accuracy_score(y_test, y_pred), 3))
print("Precision (macro):", round(precision_score(y_test, y_pred, average='macro'), 3))
print("Recall (macro)   :", round(recall_score(y_test, y_pred, average='macro'), 3))
print("F1-Score (macro) :", round(f1_score(y_test, y_pred, average='macro'), 3))
